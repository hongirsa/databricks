{
 "cells": [
  {
   "cell_type": "code",
   "execution_count": 0,
   "metadata": {
    "application/vnd.databricks.v1+cell": {
     "cellMetadata": {
      "byteLimit": 2048000,
      "rowLimit": 10000
     },
     "inputWidgets": {},
     "nuid": "0885fc02-af03-4ef4-b8f0-819a585c91a6",
     "showTitle": false,
     "title": ""
    }
   },
   "outputs": [],
   "source": [
    "# !pip install earthengine-api"
   ]
  },
  {
   "cell_type": "code",
   "execution_count": 0,
   "metadata": {
    "application/vnd.databricks.v1+cell": {
     "cellMetadata": {
      "byteLimit": 2048000,
      "rowLimit": 10000
     },
     "inputWidgets": {},
     "nuid": "c8efe4ba-3fef-48b0-8fe9-e3a86828d6af",
     "showTitle": false,
     "title": ""
    }
   },
   "outputs": [],
   "source": [
    "import ee"
   ]
  },
  {
   "cell_type": "code",
   "execution_count": 0,
   "metadata": {
    "application/vnd.databricks.v1+cell": {
     "cellMetadata": {
      "byteLimit": 2048000,
      "rowLimit": 10000
     },
     "inputWidgets": {},
     "nuid": "f4b18ed2-123f-468f-ad9c-718c8e0cb0d9",
     "showTitle": false,
     "title": ""
    }
   },
   "outputs": [
    {
     "output_type": "stream",
     "name": "stdout",
     "output_type": "stream",
     "text": [
      "Out[19]: [FileInfo(path='dbfs:/mnt/fsdh-dbk-main-mount/', name='fsdh-dbk-main-mount/', size=0, modificationTime=0)]"
     ]
    }
   ],
   "source": [
    "# dbutils.fs.unmount('/mnt')\n",
    "# dbutils.fs.ls(\"/mnt/\")"
   ]
  },
  {
   "cell_type": "code",
   "execution_count": 0,
   "metadata": {
    "application/vnd.databricks.v1+cell": {
     "cellMetadata": {
      "byteLimit": 2048000,
      "rowLimit": 10000
     },
     "inputWidgets": {},
     "nuid": "8fbf5035-b71a-4d51-9e5e-1ca7e64327fe",
     "showTitle": false,
     "title": ""
    }
   },
   "outputs": [
    {
     "output_type": "display_data",
     "data": {
      "text/html": [
       "<style scoped>\n",
       "  .ansiout {\n",
       "    display: block;\n",
       "    unicode-bidi: embed;\n",
       "    white-space: pre-wrap;\n",
       "    word-wrap: break-word;\n",
       "    word-break: break-all;\n",
       "    font-family: \"Source Code Pro\", \"Menlo\", monospace;;\n",
       "    font-size: 13px;\n",
       "    color: #555;\n",
       "    margin-left: 4px;\n",
       "    line-height: 19px;\n",
       "  }\n",
       "</style>"
      ]
     },
     "metadata": {
      "application/vnd.databricks.v1+output": {
       "arguments": {},
       "data": "",
       "errorSummary": "Your administrator has only allowed python and sql and r commands on this cluster. This execution contained at least one disallowed language.",
       "errorTraceType": null,
       "metadata": {},
       "type": "ipynbError"
      }
     },
     "output_type": "display_data"
    }
   ],
   "source": [
    "# %fs ls dbfs:/mnt"
   ]
  },
  {
   "cell_type": "code",
   "execution_count": 0,
   "metadata": {
    "application/vnd.databricks.v1+cell": {
     "cellMetadata": {
      "byteLimit": 2048000,
      "rowLimit": 10000
     },
     "inputWidgets": {},
     "nuid": "06fa90ab-cee0-4932-a491-7d9cfbfd6381",
     "showTitle": false,
     "title": ""
    }
   },
   "outputs": [
    {
     "output_type": "stream",
     "name": "stdout",
     "output_type": "stream",
     "text": [
      "NASADEM: NASA NASADEM Digital Elevation 30m\n"
     ]
    }
   ],
   "source": [
    "import json\n",
    "# get Oauth2 credentials for using already set up service account\n",
    "service_account = 'eedatabricks@ee-ganghong2.iam.gserviceaccount.com'\n",
    "# credentials = ee.ServiceAccountCredentials(service_account,'E:/vegetation/gee/databricks/ee-ganghong2-6d75d0079910.json')\n",
    "# credentials = ee.ServiceAccountCredentials(service_account,'/mnt/fsdh-dbk-main-mount/test/ee-ganghong2-6d75d0079910.json')\n",
    "# credentials = ee.ServiceAccountCredentials(service_account,'/mnt/fsdh-dbk-main-mount/')\n",
    "# credentials = ee.ServiceAccountCredentials(service_account,'abfs://datahub@fsdhdatalakepoc.dfs.core.windows.net//ee-ganghong2-6d75d0079910.json')\n",
    "# credsPath = '/mnt/fsdh-dbk-main-mount/test/ee-ganghong2-6d75d0079910.json'\n",
    "credsPath = '/dbfs/FileStore/tables/ee_ganghong2_6d75d0079910.json'\n",
    "credentials = ee.ServiceAccountCredentials(service_account, credsPath)\n",
    "# json_rows = spark.read.text(credsPath).collect() # Read the file using spark\n",
    "# creds = json.loads(\"\".join([row.value for row in json_rows])) # Load it into a proper json/dict\n",
    "\n",
    "# # Dump into a json file with the original name but in filestore\n",
    "# newPath = \"/dbfs/FileStore/tables/\"+credsPath.split(\"/\")[-1] \n",
    "# with open(newPath, \"w\") as f: \n",
    "#     json.dump(creds,f)\n",
    "\n",
    "# # EARTH ENGINE ONLY:\n",
    "# # We can then initialize a session:\n",
    "# credentials = ee.ServiceAccountCredentials(service_account, newPath)\n",
    "ee.Initialize(credentials)\n",
    "\n",
    "# Let's test it out:\n",
    "print(ee.Image(\"NASA/NASADEM_HGT/001\").get(\"title\").getInfo())\n",
    "# ee.Initialize(credentials)\n",
    "# abfs://datahub@fsdhdatalakepoc.dfs.core.windows.net//ee-ganghong2-6d75d0079910.json"
   ]
  }
 ],
 "metadata": {
  "application/vnd.databricks.v1+notebook": {
   "dashboards": [],
   "language": "python",
   "notebookMetadata": {
    "mostRecentlyExecutedCommandWithImplicitDF": {
     "commandId": 109723471552790,
     "dataframes": [
      "_sqldf"
     ]
    },
    "pythonIndentUnit": 4
   },
   "notebookName": "testee",
   "notebookOrigID": 3987532188365473,
   "widgets": {}
  }
 },
 "nbformat": 4,
 "nbformat_minor": 0
}
